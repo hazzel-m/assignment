{
  "nbformat": 4,
  "nbformat_minor": 0,
  "metadata": {
    "colab": {
      "provenance": [],
      "authorship_tag": "ABX9TyNbieHgAYADtJUcRv1l2lOl",
      "include_colab_link": true
    },
    "kernelspec": {
      "name": "python3",
      "display_name": "Python 3"
    },
    "language_info": {
      "name": "python"
    }
  },
  "cells": [
    {
      "cell_type": "markdown",
      "metadata": {
        "id": "view-in-github",
        "colab_type": "text"
      },
      "source": [
        "<a href=\"https://colab.research.google.com/github/hazzel-m/assignment/blob/main/calculator_py.ipynb\" target=\"_parent\"><img src=\"https://colab.research.google.com/assets/colab-badge.svg\" alt=\"Open In Colab\"/></a>"
      ]
    },
    {
      "cell_type": "code",
      "execution_count": null,
      "metadata": {
        "colab": {
          "base_uri": "https://localhost:8080/"
        },
        "id": "6EPMqgjZ_K6p",
        "outputId": "6c659336-b85a-4220-d8ec-ab90195a2aad"
      },
      "outputs": [
        {
          "output_type": "stream",
          "name": "stdout",
          "text": [
            "Enter first number: 4\n",
            "Enter operator(+, -, *, /): *\n",
            "Enter second number: 7\n",
            "28.0\n"
          ]
        }
      ],
      "source": [
        "# simple calculator\n",
        "\n",
        "num1= float(input('Enter first number: '))\n",
        "op= input('Enter operator(+, -, *, /): ')\n",
        "num2= float(input('Enter second number: '))\n",
        "\n",
        "if op=='+':\n",
        "    print(num1+num2)\n",
        "elif op=='-':\n",
        "    print(num1-num2)\n",
        "elif op=='*':\n",
        "    print(num1*num2)\n",
        "elif op=='/':\n",
        "    print(num1/num2)\n",
        "else:\n",
        "    print('Invalid operator')"
      ]
    }
  ]
}